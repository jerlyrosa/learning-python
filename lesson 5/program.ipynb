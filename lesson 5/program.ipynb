{
 "cells": [
  {
   "cell_type": "markdown",
   "metadata": {},
   "source": [
    "# Exercise: Transform strings\n",
    "\n",
    "There are several operations you can perform on strings when you manipulate them. In this exercise, you'll use string methods to modify text with facts about the Moon and then extract information to create a short summary.\n",
    "\n",
    "This exercise is broken into a series of steps. For each step you will be presented with the goal for the step, followed by an empty cell. Enter your Python into the cell and run it. The solution for each step will follow each cell.\n",
    "\n",
    "## Parsing interesting facts about the moon\n",
    "\n",
    "Start by storing the following paragraph in a variable named `text`:\n",
    "\n",
    "```\n",
    "Interesting facts about the Moon. The Moon is Earth's only satellite. There are several interesting facts about the Moon and how it affects life here on Earth. \n",
    "On average, the Moon moves 4cm away from the Earth every year. This yearly drift is not significant enough to cause immediate effects on Earth. The highest daylight temperature of the Moon is 127 C.\n",
    "```"
   ]
  },
  {
   "cell_type": "code",
   "execution_count": 2,
   "metadata": {},
   "outputs": [
    {
     "name": "stdout",
     "output_type": "stream",
     "text": [
      "Object poses no threat.\n"
     ]
    }
   ],
   "source": [
    "text = \"\"\"Interesting facts about the Moon. The Moon is Earth's only satellite. There are several interesting facts about the Moon and how it affects life here on Earth.\n",
    " On average, the Moon moves 4cm away from the Earth every year. This yearly drift is not significant enough to cause immediate effects on Earth. The highest daylight temperature of the Moon is 127 C.\"\"\""
   ]
  },
  {
   "cell_type": "markdown",
   "metadata": {},
   "source": [
    "## Separate the paragraph into sentences\n",
    "\n",
    "In English each sentence ends with a period. You will use this to break the paragraph into difference sentences. Using the `split` method to split the text into sentences by looking for the string `. ` (a period followed by a space). Store the result in a variable named `sentences`. Print the result."
   ]
  },
  {
   "cell_type": "code",
   "execution_count": 24,
   "metadata": {},
   "outputs": [
    {
     "name": "stdout",
     "output_type": "stream",
     "text": [
      "['Interesting facts about the   Moon', \"The moon is Earth's only satellite\", 'There are several interesting facts about the Moon and how it affects life here on Earth.\\n On average, the Moon moves 4cm away from the Earth every year', 'This yearly drift is not significant enough to cause immediate effects on Earth', 'The highest daylight temperature of the Moon is 127 C.']\n"
     ]
    }
   ],
   "source": [
    "sentences = text.split('. ')\n",
    "print(sentences)"
   ]
  },
  {
   "cell_type": "markdown",
   "metadata": {},
   "source": [
    "## Find keywords\n",
    "\n",
    "You will finish your program by adding the code to find any sentences which mention temperature. Add code to loop through the `sentences` variable. For each sentence, search for the word `temperature`. If the word is found, print the sentence.\n"
   ]
  },
  {
   "cell_type": "code",
   "execution_count": 23,
   "metadata": {},
   "outputs": [
    {
     "name": "stdout",
     "output_type": "stream",
     "text": [
      "Interesting facts about the   Moon\n",
      "The moon is Earth's only satellite\n",
      "There are several interesting facts about the Moon and how it affects life here on Earth.\n",
      " On average, the Moon moves 4cm away from the Earth every year\n",
      "The highest daylight temperature of the Moon is 127 C.\n"
     ]
    }
   ],
   "source": [
    "for sentence in sentences:\n",
    "    if 'moon' in sentence.lower():\n",
    "        print(sentence)\n"
   ]
  },
  {
   "cell_type": "markdown",
   "metadata": {},
   "source": [
    "# Exercise: Formatting strings\n",
    "\n",
    "Knowing how to format strings is essential when you're presenting information from a program. There are a few different ways to accomplish this in Python. In this exercise, you use variables that hold key facts about gravity on various moons and then use them to format and print the information.\n",
    "\n",
    "This exercise is broken into a series of steps. For each step you will be presented with the goal for the step, followed by an empty cell. Enter your Python into the cell and run it. The solution for each step will follow each cell.\n",
    "\n",
    "## Create the variables\n",
    "\n",
    "Start by creating three variables, `name`, `gravity`, and `planet`, and set them to the following values:\n",
    "\n",
    "```\n",
    "name: Ganymede\n",
    "planet: Mars\n",
    "gravity: 1.43\n",
    "```"
   ]
  },
  {
   "cell_type": "code",
   "execution_count": null,
   "metadata": {},
   "outputs": [],
   "source": [
    "name = \"Ganymede\"\n",
    "planet = \"Mars\"\n",
    "gravity =\" 1.43\""
   ]
  },
  {
   "cell_type": "markdown",
   "metadata": {},
   "source": [
    "## Create the template\n",
    "\n",
    "Now you will create the template to display the information about the moon. You want the output to look like the following:\n",
    "\n",
    "```\n",
    "Gravity Facts about {name}\n",
    "--------------------------\n",
    "Planet Name: {planet}\n",
    "Gravity on {name}: {gravity} m/s2\n",
    "```\n",
    "\n",
    "Create a variable named `template`, and set it to the template you create."
   ]
  },
  {
   "cell_type": "code",
   "execution_count": 25,
   "metadata": {},
   "outputs": [
    {
     "name": "stdout",
     "output_type": "stream",
     "text": [
      "Gravity Facts about {name}\n",
      "----------------------------------------\n",
      "Planet Name: {planet}\n",
      "Gravity on {name}: {gravity} m/s2\n"
     ]
    }
   ],
   "source": [
    "template = \"\"\"Gravity Facts about {name}\n",
    "----------------------------------------\n",
    "Planet Name: {planet}\n",
    "Gravity on {name}: {gravity} m/s2\"\"\"\n",
    "print(template)"
   ]
  },
  {
   "cell_type": "markdown",
   "metadata": {},
   "source": [
    "## Use the template\n",
    "\n",
    "With the template created, it's time to use it to display information about the moon! Use the `format` function on `template` to use the template and `print` the information. Set `name`, `planet`, and `gravity` to the appropriate values."
   ]
  },
  {
   "cell_type": "code",
   "execution_count": 17,
   "metadata": {},
   "outputs": [
    {
     "name": "stdout",
     "output_type": "stream",
     "text": [
      "Gravity Facts about Ganymede\n",
      "----------------------------------------\n",
      "Planet Name: Mars\n",
      "Gravity on Ganymede:  1.43 m/s2\n"
     ]
    }
   ],
   "source": [
    "print(template.format(name=name, planet=planet, gravity=gravity))"
   ]
  }
 ],
 "metadata": {
  "kernelspec": {
   "display_name": "Python 3.8.10 64-bit",
   "language": "python",
   "name": "python3"
  },
  "language_info": {
   "codemirror_mode": {
    "name": "ipython",
    "version": 3
   },
   "file_extension": ".py",
   "mimetype": "text/x-python",
   "name": "python",
   "nbconvert_exporter": "python",
   "pygments_lexer": "ipython3",
   "version": "3.8.10"
  },
  "orig_nbformat": 4,
  "vscode": {
   "interpreter": {
    "hash": "916dbcbb3f70747c44a77c7bcd40155683ae19c65e1c03b4aa3499c5328201f1"
   }
  }
 },
 "nbformat": 4,
 "nbformat_minor": 2
}
