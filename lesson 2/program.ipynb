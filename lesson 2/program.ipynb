{
 "cells": [
  {
   "cell_type": "markdown",
   "metadata": {},
   "source": [
    "# Your first program\n",
    "\n",
    "You will use a Jupyter notebook to create your first program. Your senior officer wants you to create code to perform a couple of utilities. You will start by displaying today's date. Then you will add code to convert parsecs to lightyears.\n",
    "\n",
    "This exercise is broken into a series of steps. For each step you will be presented with the goal for the step, followed by an empty cell. Enter your Python into the cell and run it. The solution for each step will follow each cell."
   ]
  },
  {
   "cell_type": "markdown",
   "metadata": {},
   "source": [
    "## Display today's date"
   ]
  },
  {
   "cell_type": "code",
   "execution_count": null,
   "metadata": {},
   "outputs": [
    {
     "name": "stdout",
     "output_type": "stream",
     "text": [
      "2022-07-20\n"
     ]
    }
   ],
   "source": [
    "from datetime import date\n",
    "print(date.today())"
   ]
  },
  {
   "cell_type": "markdown",
   "metadata": {},
   "source": [
    "\n",
    "## Build a unit converter\n",
    "\n",
    "Now it's time to turn your attention to the second utility, converting parsecs to lightyears. One parsec is 3.26 lightyears, so you will multiply parsecs by that value to determine lightyears.\n",
    "\n",
    "Create a variable named `parsecs` and set it to `11`. Then add the code to perform the appropriate calculation and store the result in a variable named `lightyears`. Finally print the result on the screen with so it displays a message which resembles the following:\n",
    "\n",
    "**11 parsecs is ___ lightyears**\n",
    "\n",
    "> Remember to you can use `str` to convert numbers to strings"
   ]
  },
  {
   "cell_type": "code",
   "execution_count": null,
   "metadata": {},
   "outputs": [
    {
     "name": "stdout",
     "output_type": "stream",
     "text": [
      "12 parsecs is 39.12 lightyears\n"
     ]
    }
   ],
   "source": [
    "parsecs = 12\n",
    "lightyears = parsecs * 3.26\n",
    "print(str(parsecs) + \" parsecs is \" + str(lightyears) + \" lightyears\")"
   ]
  },
  {
   "cell_type": "markdown",
   "metadata": {},
   "source": [
    "# Creating reusable applications\n",
    "\n",
    "Having a program with hard-coded values limits its flexibility. Your first officer likes the program you built to convert parsecs to lightyears, but wants the ability to specify a value for parsecs. She wants you to create a program which can accept user input.\n",
    "\n",
    "\n",
    "# Accepting user input\n",
    "\n",
    "In the prior exercise you created code to convert parsecs to lightyears and display the results, which looked like the following:\n",
    "\n",
    "```python\n",
    "parsecs = 11\n",
    "lightyears = parsecs * 3.26\n",
    "print(str(parsecs) + \" parsecs is \" + str(lightyears) + \" lightyears\")\n",
    "```\n",
    "\n",
    "Using this code as a foundation, update how `parsecs` is set. Start by creating a variable named `parsecs_input` and setting it to the result of `input`, which should prompt the user to enter the number of parsecs. Then convert `parsecs_input` to an integer by using `int` and storing it in `parsecs`. Finish by performing the calculation and displaying the result."
   ]
  },
  {
   "cell_type": "code",
   "execution_count": 1,
   "metadata": {},
   "outputs": [
    {
     "name": "stdout",
     "output_type": "stream",
     "text": [
      "12 parsecs is 39.13872 lightyears\n"
     ]
    }
   ],
   "source": [
    "parsecs_input = input('Input number of parsecs')\n",
    "parsecs = int(parsecs_input)\n",
    "lightyears = 3.26156 * parsecs\n",
    "print(str(parsecs) + \" parsecs is \" + str(lightyears) + \" lightyears\")"
   ]
  }
 ],
 "metadata": {
  "kernelspec": {
   "display_name": "Python 3.8.10 64-bit",
   "language": "python",
   "name": "python3"
  },
  "language_info": {
   "codemirror_mode": {
    "name": "ipython",
    "version": 3
   },
   "file_extension": ".py",
   "mimetype": "text/x-python",
   "name": "python",
   "nbconvert_exporter": "python",
   "pygments_lexer": "ipython3",
   "version": "3.8.10"
  },
  "orig_nbformat": 4,
  "vscode": {
   "interpreter": {
    "hash": "916dbcbb3f70747c44a77c7bcd40155683ae19c65e1c03b4aa3499c5328201f1"
   }
  }
 },
 "nbformat": 4,
 "nbformat_minor": 2
}
