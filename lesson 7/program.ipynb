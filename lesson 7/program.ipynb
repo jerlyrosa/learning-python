{
 "cells": [
  {
   "cell_type": "markdown",
   "metadata": {},
   "source": [
    "# Exercise: Use lists to store planet names\n",
    "\n",
    "Lists allow you to store multiple values in a single variable. In this notebook you'll create a project to display information about the planets.\n",
    "\n",
    "This exercise is broken into a series of steps. For each step you will be presented with the goal for the step, followed by an empty cell. Enter your Python into the cell and run it. The solution for each step will follow each cell.\n",
    "\n",
    "## Add all planets to a list\n",
    "\n",
    "First, create a variable named `planets`. Add the eight planets (without Pluto) to the list. The planets are:\n",
    "\n",
    "- Mercury\n",
    "- Venus\n",
    "- Earth\n",
    "- Mars\n",
    "- Jupiter\n",
    "- Saturn\n",
    "- Uranus\n",
    "- Neptune\n",
    "\n",
    "Finish by using `print` to display the list of planets."
   ]
  },
  {
   "cell_type": "code",
   "execution_count": 1,
   "metadata": {},
   "outputs": [
    {
     "name": "stdout",
     "output_type": "stream",
     "text": [
      "['Mercury', 'Venus', 'Earth', 'Mars', 'Jupiter', 'Saturn', 'Uranus', 'Neptune']\n"
     ]
    }
   ],
   "source": [
    "planets = [\"Mercury\", \"Venus\", \"Earth\", \"Mars\", \"Jupiter\", \"Saturn\", \"Uranus\", \"Neptune\"]\n",
    "\n",
    "print(planets)"
   ]
  },
  {
   "cell_type": "markdown",
   "metadata": {},
   "source": [
    "## Display the number of planets\n",
    "\n",
    "Next, display the total number of `planets` by using `len` and `print`."
   ]
  },
  {
   "cell_type": "code",
   "execution_count": 2,
   "metadata": {},
   "outputs": [
    {
     "name": "stdout",
     "output_type": "stream",
     "text": [
      "There are 8 planets\n"
     ]
    }
   ],
   "source": [
    "print(\"There are\", len(planets), \"planets\")"
   ]
  },
  {
   "cell_type": "markdown",
   "metadata": {},
   "source": [
    "## Add a planet to the list\n",
    "\n",
    "Finally, add Pluto to the list that you created. Then display both the number of planets and the last planet in the list."
   ]
  },
  {
   "cell_type": "code",
   "execution_count": 3,
   "metadata": {},
   "outputs": [
    {
     "name": "stdout",
     "output_type": "stream",
     "text": [
      "Actually, there are 9 planets\n",
      "Pluto is the last planet\n"
     ]
    }
   ],
   "source": [
    "planets.append(\"Pluto\")\n",
    "\n",
    "print(\"Actually, there are\", len(planets), \"planets\")\n",
    "\n",
    "print(planets[-1], \"is the last planet\")"
   ]
  }
 ],
 "metadata": {
  "kernelspec": {
   "display_name": "Python 3.8.10 64-bit",
   "language": "python",
   "name": "python3"
  },
  "language_info": {
   "codemirror_mode": {
    "name": "ipython",
    "version": 3
   },
   "file_extension": ".py",
   "mimetype": "text/x-python",
   "name": "python",
   "nbconvert_exporter": "python",
   "pygments_lexer": "ipython3",
   "version": "3.8.10"
  },
  "orig_nbformat": 4,
  "vscode": {
   "interpreter": {
    "hash": "916dbcbb3f70747c44a77c7bcd40155683ae19c65e1c03b4aa3499c5328201f1"
   }
  }
 },
 "nbformat": 4,
 "nbformat_minor": 2
}
